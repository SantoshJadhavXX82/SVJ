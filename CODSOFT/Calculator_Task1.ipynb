{
 "cells": [
  {
   "cell_type": "code",
   "execution_count": 1,
   "id": "b369f3f6",
   "metadata": {},
   "outputs": [],
   "source": [
    "import math\n",
    "import tkinter as tk\n",
    "from tkinter import ttk\n",
    "from tkinter import simpledialog"
   ]
  },
  {
   "cell_type": "code",
   "execution_count": 2,
   "id": "9ec179ec",
   "metadata": {},
   "outputs": [],
   "source": [
    "def button_click(number):\n",
    "    current = entry.get()\n",
    "    entry.delete(0, tk.END)\n",
    "    entry.insert(0, str(current) + str(number))"
   ]
  },
  {
   "cell_type": "code",
   "execution_count": 3,
   "id": "d1074663",
   "metadata": {},
   "outputs": [],
   "source": [
    "def button_clear():\n",
    "    print('function called')\n",
    "    entry.delete(0, tk.END)"
   ]
  },
  {
   "cell_type": "code",
   "execution_count": 4,
   "id": "7bc9b1f2",
   "metadata": {},
   "outputs": [],
   "source": [
    "def button_equal():\n",
    "    try:\n",
    "        result = eval(entry.get())\n",
    "        entry.delete(0, tk.END)\n",
    "        entry.insert(0, str(result))\n",
    "    except Exception as e:\n",
    "        entry.delete(0, tk.END)\n",
    "        entry.insert(0, \"Error\")"
   ]
  },
  {
   "cell_type": "code",
   "execution_count": 5,
   "id": "a975c930",
   "metadata": {},
   "outputs": [],
   "source": [
    "def button_power():\n",
    "    current = entry.get()\n",
    "    if current:\n",
    "        entry.delete(0, tk.END)\n",
    "        entry.insert(0, current + \"**\")"
   ]
  },
  {
   "cell_type": "code",
   "execution_count": 6,
   "id": "dd5bbaab",
   "metadata": {},
   "outputs": [],
   "source": [
    "def button_exp():\n",
    "    current = entry.get()\n",
    "    entry.delete(0, tk.END)\n",
    "    entry.insert(0, \"math.exp(\" + current + \")\")"
   ]
  },
  {
   "cell_type": "code",
   "execution_count": 7,
   "id": "f7d8881c",
   "metadata": {},
   "outputs": [],
   "source": [
    "def button_percentage():\n",
    "    current = entry.get()\n",
    "    if current:\n",
    "        entry.delete(0, tk.END)\n",
    "        entry.insert(0, current + \"%\")"
   ]
  },
  {
   "cell_type": "code",
   "execution_count": 8,
   "id": "47dd6cf2",
   "metadata": {},
   "outputs": [],
   "source": [
    "def button_log():\n",
    "    current = entry.get()\n",
    "    entry.delete(0, tk.END)\n",
    "    entry.insert(0, \"math.log10(\" + current + \")\")"
   ]
  },
  {
   "cell_type": "code",
   "execution_count": 9,
   "id": "56824b19",
   "metadata": {},
   "outputs": [],
   "source": [
    "def button_sqrt():\n",
    "    current = entry.get()\n",
    "    if current is not None:\n",
    "        entry.delete(0, tk.END)\n",
    "        entry.insert(0, \"math.sqrt(\" + str(current) + \")\")"
   ]
  },
  {
   "cell_type": "code",
   "execution_count": 10,
   "id": "5f3a7a72",
   "metadata": {},
   "outputs": [
    {
     "data": {
      "text/plain": [
       "''"
      ]
     },
     "execution_count": 10,
     "metadata": {},
     "output_type": "execute_result"
    }
   ],
   "source": [
    "# Create the main window\n",
    "_frame = tk.Tk()\n",
    "_frame.title(\"CALCULATOR\")"
   ]
  },
  {
   "cell_type": "code",
   "execution_count": 11,
   "id": "4429af05",
   "metadata": {},
   "outputs": [],
   "source": [
    "# Label next to the entry\n",
    "label = tk.Label(_frame, text=\"Scientific Calculator\", font=('Arial', 20, 'bold'))\n",
    "label.grid(row=0, column=0, columnspan=6, pady=10)"
   ]
  },
  {
   "cell_type": "code",
   "execution_count": 12,
   "id": "16beb2d9",
   "metadata": {},
   "outputs": [],
   "source": [
    "lcnf1 = {'background':'black', \n",
    "         'borderwidth':2, \n",
    "         'font':('Arial', 50), \n",
    "         'foreground':'white', \n",
    "         'width':25, \n",
    "         'borderwidth': 1}\n",
    "\n",
    "lcnf2 = {'row':1, 'column':0, 'columnspan':4, 'padx':10, 'pady':10}"
   ]
  },
  {
   "cell_type": "code",
   "execution_count": 13,
   "id": "81569fb2",
   "metadata": {},
   "outputs": [],
   "source": [
    "# Entry widget for display\n",
    "entry = tk.Entry(_frame, lcnf1)\n",
    "entry.grid(lcnf2)"
   ]
  },
  {
   "cell_type": "code",
   "execution_count": 14,
   "id": "4247a96a",
   "metadata": {},
   "outputs": [],
   "source": [
    "# Define buttons\n",
    "buttons = [\n",
    "    (\"7\", 2, 0, 'white'), (\"8\", 2, 1, 'white'), (\"9\", 2, 2, 'white'), (\"/\", 2, 3, '#F08080'),\n",
    "    (\"4\", 3, 0, 'white'), (\"5\", 3, 1, 'white'), (\"6\", 3, 2, 'white'), (\"*\", 3, 3, '#F08080'),\n",
    "    (\"1\", 4, 0, 'white'), (\"2\", 4, 1, 'white'), (\"3\", 4, 2, 'white'), (\"-\", 4, 3, '#F08080'),\n",
    "    (\"0\", 5, 0, 'white'), (\".\", 5, 1, 'white'), (\"=\", 5, 2, '#00FF40'), (\"+\", 5, 3, '#F08080'),\n",
    "    ('log', 6, 0, '#F08080'),(\"power\", 6, 1, '#F08080'), (\"exp\", 6, 2, '#F08080'), (\"mod\", 6, 3, '#F08080'),\n",
    "    (\"sqrt\", 7, 0, '#F08080'),('C', 7, 1, '#00308F'),\n",
    "]"
   ]
  },
  {
   "cell_type": "code",
   "execution_count": 15,
   "id": "242d5ad2",
   "metadata": {},
   "outputs": [],
   "source": [
    "lbutton_style = {'background': 'white' ,\n",
    "                 'font':('Arial', 20), \n",
    "                 'foreground':'black',\n",
    "                 'padx':10, \n",
    "                 'pady':10, \n",
    "                 'width':12, \n",
    "                 'height':2,\n",
    "                 'relief':tk.RAISED}"
   ]
  },
  {
   "cell_type": "code",
   "execution_count": 16,
   "id": "84e9ba43",
   "metadata": {},
   "outputs": [],
   "source": [
    "# Create and place buttons on the grid\n",
    "for (text, row, column, bck_color) in buttons:\n",
    "    button = tk.Button(_frame, text=text, command=lambda t=text: (( ( ( ( ( button_click(t) if t!='sqrt' else button_sqrt() )\n",
    "                                                                         if t!='log' else button_log() )\n",
    "                                                                       if t!='mod' else button_percentage() )\n",
    "                                                                     if t!='exp' else button_exp() )\n",
    "                                                                   if t!='power' else button_power() )\n",
    "                                                                  if t!=\"C\" else button_clear()) \n",
    "                       if t!=\"=\" else button_equal())\n",
    "    button.config({'background': bck_color,\n",
    "                 'font':('Arial', 20), \n",
    "                 'foreground':'black',\n",
    "                 'padx':10, \n",
    "                 'pady':10, \n",
    "                 'width':12, \n",
    "                 'height':2,\n",
    "                 'relief':tk.RAISED})\n",
    "    button.grid(row=row, column=column)"
   ]
  },
  {
   "cell_type": "code",
   "execution_count": 17,
   "id": "c92930ea",
   "metadata": {},
   "outputs": [],
   "source": [
    "# Run the application\n",
    "_frame.mainloop()"
   ]
  },
  {
   "cell_type": "code",
   "execution_count": null,
   "id": "ac8f0a0f",
   "metadata": {},
   "outputs": [],
   "source": []
  },
  {
   "cell_type": "code",
   "execution_count": null,
   "id": "d2b752c4",
   "metadata": {},
   "outputs": [],
   "source": []
  }
 ],
 "metadata": {
  "kernelspec": {
   "display_name": "Python 3.11.2 64-bit",
   "language": "python",
   "name": "python311264bitfc1c17d51cf949b193c7208a70467e8b"
  },
  "language_info": {
   "codemirror_mode": {
    "name": "ipython",
    "version": 3
   },
   "file_extension": ".py",
   "mimetype": "text/x-python",
   "name": "python",
   "nbconvert_exporter": "python",
   "pygments_lexer": "ipython3",
   "version": "3.11.2"
  }
 },
 "nbformat": 4,
 "nbformat_minor": 5
}
